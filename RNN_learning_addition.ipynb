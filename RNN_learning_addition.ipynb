{
 "cells": [
  {
   "cell_type": "markdown",
   "metadata": {},
   "source": [
    "# An implementation of sequence to sequence learning for performind addition"
   ]
  },
  {
   "cell_type": "markdown",
   "metadata": {},
   "source": [
    "Build a RNN sequence to sequence (encoder-decoder) model to learn addition.\n",
    "\n",
    "The code are pretty much copied from\n",
    "https://github.com/keras-team/keras/blob/master/examples/addition_rnn.py"
   ]
  },
  {
   "cell_type": "code",
   "execution_count": 1,
   "metadata": {},
   "outputs": [
    {
     "name": "stderr",
     "output_type": "stream",
     "text": [
      "C:\\Users\\puppy\\AppData\\Local\\conda\\conda\\envs\\DL\\lib\\site-packages\\h5py\\__init__.py:36: FutureWarning: Conversion of the second argument of issubdtype from `float` to `np.floating` is deprecated. In future, it will be treated as `np.float64 == np.dtype(float).type`.\n",
      "  from ._conv import register_converters as _register_converters\n"
     ]
    }
   ],
   "source": [
    "import tensorflow as tf\n",
    "sess = tf.Session(config=tf.ConfigProto(log_device_placement=True))\n"
   ]
  },
  {
   "cell_type": "code",
   "execution_count": 2,
   "metadata": {},
   "outputs": [
    {
     "name": "stderr",
     "output_type": "stream",
     "text": [
      "Using TensorFlow backend.\n"
     ]
    }
   ],
   "source": [
    "from keras.models import Sequential\n",
    "from keras import layers\n",
    "import numpy as np\n",
    "from six.moves import range"
   ]
  },
  {
   "cell_type": "markdown",
   "metadata": {},
   "source": [
    "### define classes for one-hot encoding"
   ]
  },
  {
   "cell_type": "code",
   "execution_count": 3,
   "metadata": {},
   "outputs": [],
   "source": [
    "class CharacterTable(object):\n",
    "    ''' Given a set of characters:\n",
    "        + Encode them into a one hot interger representation\n",
    "        + Decode the one hot integer representation to their character output\n",
    "        + Decode a vector of probablities to their character output\n",
    "    '''\n",
    "    def __init__(self, chars):\n",
    "        ''' \n",
    "        # Arguments:\n",
    "            chars: Characters that can apeear in the input.\n",
    "        '''\n",
    "        self.chars = sorted(set(chars))\n",
    "        self.char_indices = dict((c,i) for i,c in enumerate(self.chars))\n",
    "        self.indices_char = dict((i,c) for i,c in enumerate(self.chars))\n",
    "        \n",
    "    def encode(self, C, num_rows):\n",
    "        '''One hot encode given string C\n",
    "        #Arguments:\n",
    "            num_rows: number of rows int he returned on hot encoding.\n",
    "        '''\n",
    "        x = np.zeros((num_rows, len(self.chars)))\n",
    "        for i,c in enumerate(C):\n",
    "            x[i, self.char_indices[c]] = 1\n",
    "        return x\n",
    "    \n",
    "    def decode(self, x, calc_argmax = True):\n",
    "        if calc_argmax:\n",
    "            x = x.argmax(axis=-1)\n",
    "        return ''.join(self.indices_char[ic] for ic in x)"
   ]
  },
  {
   "cell_type": "code",
   "execution_count": 4,
   "metadata": {},
   "outputs": [],
   "source": [
    "class colors:\n",
    "    ok = '\\033[92m'\n",
    "    fail = '\\033[91m'\n",
    "    close = '\\033[0m'"
   ]
  },
  {
   "cell_type": "markdown",
   "metadata": {},
   "source": [
    "## Generate training/testing data"
   ]
  },
  {
   "cell_type": "code",
   "execution_count": 5,
   "metadata": {},
   "outputs": [],
   "source": [
    "# Parameters for the model and dataset.\n",
    "TRAINING_SIZE = 50000\n",
    "DIGITS = 3\n",
    "REVERSE = False"
   ]
  },
  {
   "cell_type": "code",
   "execution_count": 6,
   "metadata": {},
   "outputs": [],
   "source": [
    "# Maximum length of input is 'int + int' (e.g., '345+678'). Maximum length of\n",
    "# int is DIGITS.\n",
    "MAXLEN = DIGITS + 1 + DIGITS"
   ]
  },
  {
   "cell_type": "code",
   "execution_count": 7,
   "metadata": {},
   "outputs": [],
   "source": [
    "chars = '0123456789+ '\n",
    "ctable = CharacterTable(chars)"
   ]
  },
  {
   "cell_type": "code",
   "execution_count": 8,
   "metadata": {},
   "outputs": [
    {
     "name": "stdout",
     "output_type": "stream",
     "text": [
      "Generating data...\n",
      "0/50000 data has been generated\n",
      "10000/50000 data has been generated\n",
      "20000/50000 data has been generated\n",
      "20000/50000 data has been generated\n",
      "20000/50000 data has been generated\n",
      "30000/50000 data has been generated\n",
      "40000/50000 data has been generated\n",
      "Total addition question: 50000\n"
     ]
    }
   ],
   "source": [
    "print('Generating data...')\n",
    "questions = []\n",
    "expected = []\n",
    "seen = set()\n",
    "while len(questions)<TRAINING_SIZE:\n",
    "    if (len(questions)%10000==0):\n",
    "        print('%d/%d data has been generated' % (len(questions),TRAINING_SIZE))\n",
    "    f = lambda: int(''.join(np.random.choice(list('0123456789'))\n",
    "                           for i in range(np.random.randint(1,DIGITS+1))))\n",
    "    a, b = f(), f()\n",
    "    \n",
    "    #skip addition questions we've already seen\n",
    "    key = tuple(sorted((a,b)))\n",
    "    if key in seen:\n",
    "        continue\n",
    "    seen.add(key)\n",
    "    \n",
    "    #pad the data with spaces such that it is always MAXLEN\n",
    "    q = '{}+{}'.format(a,b)\n",
    "    query = q+' '*(MAXLEN-len(q))\n",
    "    ans = str(a+b)\n",
    "    ans += ''*(DIGITS+1-len(ans))\n",
    "    if REVERSE:\n",
    "        query = query[::-1]\n",
    "    questions.append(query)\n",
    "    expected.append(ans)\n",
    "print('Total addition question:', len(questions))"
   ]
  },
  {
   "cell_type": "code",
   "execution_count": 11,
   "metadata": {},
   "outputs": [
    {
     "name": "stdout",
     "output_type": "stream",
     "text": [
      "vectorization..\n"
     ]
    }
   ],
   "source": [
    "print('vectorization..')\n",
    "x = np.zeros((len(questions), MAXLEN, len(chars)), dtype = np.bool)\n",
    "y = np.zeros((len(questions), DIGITS+1, len(chars)), dtype = np.bool)\n",
    "for i, sentence in enumerate(questions):\n",
    "    x[i] = ctable.encode(sentence, MAXLEN)\n",
    "for i, sentence in enumerate(expected):\n",
    "    y[i] = ctable.encode(sentence, DIGITS+1)"
   ]
  },
  {
   "cell_type": "code",
   "execution_count": 12,
   "metadata": {},
   "outputs": [
    {
     "name": "stdout",
     "output_type": "stream",
     "text": [
      "Training Data:\n",
      "(45000, 7, 12)\n",
      "(45000, 4, 12)\n",
      "Validation Data:\n",
      "(5000, 7, 12)\n",
      "(5000, 4, 12)\n"
     ]
    }
   ],
   "source": [
    "#shuffle (x,y)\n",
    "indices = np.arange(len(y))\n",
    "np.random.shuffle(indices)\n",
    "x = x[indices]\n",
    "y = y[indices]\n",
    "# Explicitly set apart 10% for validation data that we never train over.\n",
    "split_at = len(x) - len(x) // 10\n",
    "(x_train, x_val) = x[:split_at], x[split_at:]\n",
    "(y_train, y_val) = y[:split_at], y[split_at:]\n",
    "\n",
    "\n",
    "print('Training Data:')\n",
    "print(x_train.shape)\n",
    "print(y_train.shape)\n",
    "\n",
    "print('Validation Data:')\n",
    "print(x_val.shape)\n",
    "print(y_val.shape)\n"
   ]
  },
  {
   "cell_type": "markdown",
   "metadata": {},
   "source": [
    "### Build models"
   ]
  },
  {
   "cell_type": "code",
   "execution_count": 13,
   "metadata": {},
   "outputs": [],
   "source": [
    "# Try replacing GRU, or SimpleRNN.\n",
    "RNN = layers.SimpleRNN\n",
    "HIDDEN_SIZE = 64\n",
    "BATCH_SIZE = 128\n",
    "LAYERS = 1"
   ]
  },
  {
   "cell_type": "code",
   "execution_count": 14,
   "metadata": {},
   "outputs": [
    {
     "name": "stdout",
     "output_type": "stream",
     "text": [
      "Build model...\n",
      "_________________________________________________________________\n",
      "Layer (type)                 Output Shape              Param #   \n",
      "=================================================================\n",
      "simple_rnn_1 (SimpleRNN)     (None, 64)                4928      \n",
      "_________________________________________________________________\n",
      "repeat_vector_1 (RepeatVecto (None, 4, 64)             0         \n",
      "_________________________________________________________________\n",
      "simple_rnn_2 (SimpleRNN)     (None, 4, 64)             8256      \n",
      "_________________________________________________________________\n",
      "time_distributed_1 (TimeDist (None, 4, 12)             780       \n",
      "_________________________________________________________________\n",
      "activation_1 (Activation)    (None, 4, 12)             0         \n",
      "=================================================================\n",
      "Total params: 13,964\n",
      "Trainable params: 13,964\n",
      "Non-trainable params: 0\n",
      "_________________________________________________________________\n"
     ]
    }
   ],
   "source": [
    "print('Build model...')\n",
    "model = Sequential()\n",
    "\n",
    "#encode the input using a RNN, producing an output of HIDDEN_SIZE\n",
    "# Note: In a situation where your input sequences have a variable length,\n",
    "# use input_shape=(None, num_feature).\n",
    "model.add(RNN(HIDDEN_SIZE, input_shape = (MAXLEN, len(chars))))\n",
    "\n",
    "#As the decoder RNN's input, repeatedly provide with the last hidden state of\n",
    "# RNN for each time step. Repeat 'DIGITS + 1' times as that's the maximum\n",
    "# length of output, e.g., when DIGITS=3, max output is 999+999=1998.\n",
    "model.add(layers.RepeatVector(DIGITS + 1))\n",
    "\n",
    "# The decoder RNN could be multiple layers staked or a single layer\n",
    "for _ in range(LAYERS):\n",
    "    model.add(RNN(HIDDEN_SIZE, return_sequences = True))\n",
    "\n",
    "model.add(layers.TimeDistributed(layers.Dense(len(chars))))\n",
    "model.add(layers.Activation('softmax'))\n",
    "model.compile(loss='categorical_crossentropy',\n",
    "              optimizer = 'adam',\n",
    "              metrics = ['accuracy'])\n",
    "model.summary()"
   ]
  },
  {
   "cell_type": "code",
   "execution_count": null,
   "metadata": {
    "scrolled": true
   },
   "outputs": [
    {
     "name": "stdout",
     "output_type": "stream",
     "text": [
      "--------------------Interation:1--------------------\n",
      "Train on 45000 samples, validate on 5000 samples\n",
      "Epoch 1/10\n",
      "45000/45000 [==============================] - 6s 133us/step - loss: 1.6622 - acc: 0.1631 - val_loss: 1.5705 - val_acc: 0.1973\n",
      "Epoch 2/10\n",
      "45000/45000 [==============================] - 5s 118us/step - loss: 1.4912 - acc: 0.2228 - val_loss: 1.4292 - val_acc: 0.2457\n",
      "Epoch 3/10\n",
      "45000/45000 [==============================] - 5s 118us/step - loss: 1.3625 - acc: 0.2666 - val_loss: 1.3160 - val_acc: 0.2850\n",
      "Epoch 4/10\n",
      "45000/45000 [==============================] - 5s 118us/step - loss: 1.2495 - acc: 0.3071 - val_loss: 1.2053 - val_acc: 0.3271\n",
      "Epoch 5/10\n",
      "45000/45000 [==============================] - 5s 117us/step - loss: 1.1357 - acc: 0.3462 - val_loss: 1.1032 - val_acc: 0.3579\n",
      "Epoch 6/10\n",
      "45000/45000 [==============================] - 5s 117us/step - loss: 1.0277 - acc: 0.3871 - val_loss: 0.9976 - val_acc: 0.4027\n",
      "Epoch 7/10\n",
      "45000/45000 [==============================] - 5s 118us/step - loss: 0.9377 - acc: 0.4211 - val_loss: 0.9159 - val_acc: 0.4304\n",
      "Epoch 8/10\n",
      "16128/45000 [=========>....................] - ETA: 3s - loss: 0.8839 - acc: 0.4451"
     ]
    }
   ],
   "source": [
    "for iteration in range(1,50):\n",
    "    print('-'*20+'Interation:%d' % iteration + '-'*20)\n",
    "    model.fit(x_train,y_train,batch_size = BATCH_SIZE,\n",
    "                epochs = 10,\n",
    "                validation_data = (x_val,y_val))\n",
    "    \n",
    "    #select 5 samples fromthe validation set at random to visualize erros\n",
    "    #if iteration % 20!=0:\n",
    "    #    continue\n",
    "    for i in range(5):\n",
    "        ind = np.random.randint(0,len(x_val))\n",
    "        rowx,rowy = x_val[np.array([ind])], y_val[np.array([ind])]\n",
    "        preds = model.predict_classes(rowx, verbose = 0)\n",
    "        q = ctable.decode(rowx[0])\n",
    "        correct = ctable.decode(rowy[0])\n",
    "        guess = ctable.decode(preds[0], calc_argmax = False)\n",
    "        print('Q', q[::-1] if REVERSE else q, end=' ')\n",
    "        print('T', correct, end=' ')\n",
    "        if correct == guess:\n",
    "            print(colors.ok+ '☑' + colors.close, end=' ')\n",
    "        else:\n",
    "            print(colors.fail + '☒' + colors.close, end=' ')\n",
    "        print(guess)"
   ]
  },
  {
   "cell_type": "code",
   "execution_count": null,
   "metadata": {},
   "outputs": [],
   "source": [
    "from keras import backend as K\n",
    "K.tensorflow_backend._get_available_gpus()"
   ]
  },
  {
   "cell_type": "code",
   "execution_count": null,
   "metadata": {},
   "outputs": [],
   "source": []
  }
 ],
 "metadata": {
  "kernelspec": {
   "display_name": "Python 3",
   "language": "python",
   "name": "python3"
  },
  "language_info": {
   "codemirror_mode": {
    "name": "ipython",
    "version": 3
   },
   "file_extension": ".py",
   "mimetype": "text/x-python",
   "name": "python",
   "nbconvert_exporter": "python",
   "pygments_lexer": "ipython3",
   "version": "3.6.4"
  }
 },
 "nbformat": 4,
 "nbformat_minor": 2
}
